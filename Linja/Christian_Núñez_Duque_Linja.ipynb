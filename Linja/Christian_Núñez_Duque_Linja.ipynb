{
 "cells": [
  {
   "cell_type": "markdown",
   "metadata": {},
   "source": [
    "<img style=\"float:left\" width=\"70%\" src=\"pics/escudo_COLOR_1L_DCHA.png\">\n",
    "<img style=\"float:right\" width=\"15%\" src=\"pics/PythonLogo.svg\">\n",
    "<br style=\"clear:both;\">\n",
    "\n",
    "\n",
    "# *Linja*\n",
    "### *Sistemas Inteligentes* (Curso 2023-2024)\n",
    "\n",
    "\n",
    "\n",
    "<h2 style=\"display: inline-block; padding: 4mm; padding-left: 2em; background-color: navy; line-height: 1.3em; color: white; border-radius: 10px;\">Hacia la versión \"automática\" del juego (II) </h2>\n",
    "\n",
    "## Docentes\n",
    "\n",
    " - Pedro Latorre Carmona\n",
    " \n",
    "## Alumno\n",
    "\n",
    " - Christian Núñez Duque"
   ]
  },
  {
   "cell_type": "markdown",
   "metadata": {},
   "source": [
    "## Definición de la clase\n",
    "\n",
    "Partimos de la definición de la clase **Linja** que se ha estado viendo en las semanas anteriores, y tenemos que introducir el método de **MINIMAX**."
   ]
  },
  {
   "cell_type": "markdown",
   "metadata": {},
   "source": [
    "## Definición de la clase Linja para jugar manualmente"
   ]
  },
  {
   "cell_type": "code",
   "execution_count": 1,
   "metadata": {},
   "outputs": [],
   "source": [
    "# \n",
    "# Autor: Christian Núñez Duque\n",
    "# Fecha: 08/12/2023\n",
    "# Versión: 1.0\n",
    "# Con Run All se puede jugar. El humano es el jugador 1 (Negras) y el ordenador el 2 (Rojas).\n",
    "#\n",
    "\n",
    "from copy import deepcopy\n",
    "from typing import Tuple, List\n",
    "from IPython.display import display\n",
    "from ipywidgets import HTML\n",
    "import copy\n",
    "import math\n",
    "\n",
    "class Linja:\n",
    "    \n",
    "    # Inicializar los atributos de la clase\n",
    "    def __init__(self, matrix):\n",
    "        # Matriz del objeto\n",
    "        self.setMatrix(matrix)\n",
    "        # Variable que contiene el número del movimiento del turno actual (0: primer movimiento; 1: segundo movimiento)\n",
    "        self.movement = 0\n",
    "        # Variable que contiene el número del jugador actual (1: Negro; 2: Rojo)\n",
    "        self.turnoActual = 1\n",
    "        # Variable que contiene el valor del desplazamiento entre filas para el primer movimiento (1 o -1)\n",
    "        self.mov1row = 0\n",
    "        # Variable que almacena las fichas que hay en una fila al hacer el primer movimiento. Se usa para el segundo.\n",
    "        self.numFilas1 = 1\n",
    "        # Variable que determina si el movimiento extra está disponible.\n",
    "        self.movExtra = True\n",
    "        # Variable que contiene la suma de costes con valor 5 del jugador rojo\n",
    "        self.costeRojo = 0\n",
    "        # Variable que contiene la suma de costes con valor 5 del jugador negro\n",
    "        self.costeNegro = 0\n",
    "      \n",
    "    # Método utilizado para asignar la matriz a una instancia al inicialiarla.\n",
    "    def setMatrix(self, matrix):\n",
    "        self.matrix = deepcopy(matrix)\n",
    "    \n",
    "    # Método que devuelve la matriz de la instancia.\n",
    "    def getMatrix(self) -> List[List]:\n",
    "        return deepcopy(self.matrix)\n",
    "    \n",
    "    # Método que coloca una ficha en una casilla.\n",
    "    def placeTile(self, row: int, col: int, tile: int):\n",
    "        self.matrix[row][col] = tile\n",
    "    \n",
    "    # Método que elimina una ficha de una casilla (vacía la casilla)\n",
    "    def deleteTile(self, row: int, col: int):\n",
    "        self.matrix[row][col] = 0\n",
    "    \n",
    "    # Método que calcula el coste del jugador pasado por parámetro\n",
    "    def cost(self, playerID: int) -> int:\n",
    "        coste = 0\n",
    "        inicio = 0\n",
    "        limite = 0\n",
    "        valores_filas = {\n",
    "            0: 5,\n",
    "            1: 3,\n",
    "            2: 2,\n",
    "            3: 1,\n",
    "            4: 1,\n",
    "            5: 2,\n",
    "            6: 3,\n",
    "            7: 5\n",
    "        }\n",
    "        if(playerID==1):\n",
    "            inicio = 4\n",
    "            limite = 8\n",
    "        else:\n",
    "            inicio = 0\n",
    "            limite = 4\n",
    "        for i in range (inicio,limite):\n",
    "            for j in range (0,6):\n",
    "                if(self.matrix[i][j]==playerID):\n",
    "                    coste+=valores_filas[i]\n",
    "        return coste\n",
    "                \n",
    "    # Método que calcula la función de utilidad del estado actual. Se maximiza para el jugador rojo (ordenador).\n",
    "    def utility(self) -> int:\n",
    "        resultado = 0\n",
    "        resultado = (self.cost(2)+self.costeRojo) - (self.cost(1)+self.costeNegro)\n",
    "        return resultado\n",
    "\n",
    "    def get_content(self, row: int, col: int, validate: bool):\n",
    "        contenido = [None]\n",
    "        if self.matrix[row][col] == 0:\n",
    "            contenido[0] = \"casillavacia\"\n",
    "        elif self.matrix[row][col] == 1:\n",
    "            contenido[0] = \"casillanegra\"\n",
    "        elif self.matrix[row][col] == 2:\n",
    "            contenido[0] = \"casillaroja\"\n",
    "            \n",
    "        if validate:\n",
    "            available = self.availableMovs(1)\n",
    "\n",
    "            found = False\n",
    "            for tupla in available:\n",
    "                r, c = tupla  \n",
    "                if r == row and c == col:\n",
    "                    contenido[0] = \"casilladisp\"\n",
    "                    found = True\n",
    "                    break\n",
    "\n",
    "            if found:\n",
    "                self.matrix[row][col] = \"casilladisp\"\n",
    "            \n",
    "        return contenido\n",
    "    \n",
    "    def get_html(self, validate: bool):\n",
    "        element_image = {\n",
    "            \"casillavacia\": \"./ImagenesCasillasLinja/CasillaVacia.png\",\n",
    "            \"casillanegra\": \"./ImagenesCasillasLinja/CasillaNegra.png\",\n",
    "            \"casillaroja\": \"./ImagenesCasillasLinja/CasillaRoja.png\",\n",
    "            \"casilladisp\": \"./ImagenesCasillasLinja/CasillaDisp.png\"\n",
    "        }\n",
    "\n",
    "        html_string = \"<style> img.game {width: 47px !important; height: 37px !important;}</style><table>\"\n",
    "\n",
    "        new_row = \"<tr>\"\n",
    "        end_row = \"</tr>\"\n",
    "\n",
    "        for i in range(8):\n",
    "            html_string+=new_row\n",
    "            for j in range(6):\n",
    "\n",
    "                content = self.get_content(i,j,validate)\n",
    "                drawing = element_image[content[0]]\n",
    "\n",
    "                html = '<td><img class=\"game\" src=%s alt=\"\"></img></td>' % drawing     \n",
    "\n",
    "\n",
    "                html_string+=html\n",
    "            html_string+=end_row\n",
    "\n",
    "        html_string += \"</table>\"\n",
    "\n",
    "\n",
    "        return html_string\n",
    "\n",
    "    \n",
    "    # Método que valida los movimientos. Para ello comprueba si la celda llamada contiene una ficha del jugador\n",
    "    # actual y llama a mov1 si es el movimiento 1 o a mov2 si es el movimiento 2.\n",
    "    #\n",
    "    # Acceso es una variable que si es True y el movimiento es legal, hace el movimiento. Si es False, solo muestra\n",
    "    # si el movimiento sería válido.\n",
    "    def validateMov(self, row: int, col: int, acceso: bool) -> bool:\n",
    "        #Comprobación de que existe la ficha a mover.\n",
    "        if(self.matrix[row][col] == self.turnoActual):   \n",
    "            #Caso 1: Si es el primer movimiento.\n",
    "            if(self.movement==0):\n",
    "                return self.mov1(row, col, acceso)\n",
    "            #Caso 2: Si es el segundo movimiento.\n",
    "            elif(self.movement==1):\n",
    "                return self.mov2(row, col, acceso)\n",
    "        return False\n",
    "\n",
    "    \n",
    "    # Método que se encarga de validar (y realizar) el movimiento 1. Para ello se comprueban las reglas de Linja.\n",
    "    def mov1(self, row: int, col: int, acceso: bool) -> bool:\n",
    "        #Caso 1.1: Si la fila siguiente está fuera del tablero.\n",
    "        if(row+self.numFilas1 < 0 or row+self.numFilas1 > 7):\n",
    "            return False\n",
    "        #Excepción 1.1: Si la celda no está ocupada y es una fila final (Jugador 1).\n",
    "        elif(row+self.numFilas1 == 7 and self.matrix[row+self.numFilas1][col]==0):\n",
    "            if(acceso):    \n",
    "                self.costeNegro+=5\n",
    "                self.mov1row = 1\n",
    "                self.placeTile(row+self.numFilas1, col, self.turnoActual)\n",
    "            return True\n",
    "        #Excepción 1.2: Si la celda no está ocupada y es una fila final (Jugador 2).  \n",
    "        elif(row+self.numFilas1 == 0 and self.matrix[row+self.numFilas1][col]==0):\n",
    "            if(acceso):\n",
    "                self.costeRojo+=5\n",
    "                self.mov1row = 1\n",
    "                self.placeTile(row+self.numFilas1, col, self.turnoActual)\n",
    "            return True\n",
    "        #Caso 1.2: Si la celda no está ocupada y no es una fila final.\n",
    "        elif(self.matrix[row+self.numFilas1][col]==0):\n",
    "            if(acceso):\n",
    "                self.placeTile(row+self.numFilas1, col, self.turnoActual)\n",
    "                self.mov1row = self.numMovs(row+self.numFilas1)-1\n",
    "                #Caso 1.3: Si el primer movimiento es a una fila vacía.\n",
    "                if(self.numMovs(row+self.numFilas1)==1):\n",
    "                    if(acceso):\n",
    "                        self.gestorMov()\n",
    "            return True\n",
    "        #Excepción 2: Si el primer movimiento es a una fila final ocupada.\n",
    "        elif(self.matrix[row+self.numFilas1][col]!=0 and (row+self.numFilas1==7 or row+self.numFilas1==0)):\n",
    "            if(acceso):    \n",
    "                if(self.turnoActual==1):\n",
    "                    self.costeNegro+=5\n",
    "                    self.mov1row = 1\n",
    "                else:\n",
    "                    self.costeRojo+=5\n",
    "                    self.mov1row = 1\n",
    "            return True\n",
    "        #Caso 1.3: Si el primer movimiento es a una celda ocupada.\n",
    "        elif(self.matrix[row+self.numFilas1][col]!=0 and (row+self.numFilas1!=7 or row+self.numFilas1!=0)):\n",
    "            newCol=self.availableCols(row+self.numFilas1, col)\n",
    "            #Si no hay casillas disponibles no es un movimiento válido.\n",
    "            if(newCol==-1):\n",
    "                    return False\n",
    "            if(acceso):\n",
    "                self.placeTile(row+self.numFilas1, newCol, self.turnoActual)\n",
    "                self.mov1row = self.numMovs(row+self.numFilas1)-1\n",
    "            return True\n",
    "        return False    \n",
    "    \n",
    "    # Método que se encarga de validar (y realizar) el movimiento 2. Para ello se comprueban las reglas de Linja.\n",
    "    def mov2(self, row: int, col: int, acceso: bool) -> bool:\n",
    "        #Caso 2.1: Si la fila siguiente está fuera del tablero.\n",
    "        if(row+self.mov1row < 0 or row+self.mov1row > 7):\n",
    "            return False\n",
    "        #Caso 2.2: Si el movimiento es a una fila vacía.\n",
    "        elif(self.numMovs(row+self.mov1row) == 0):\n",
    "            #Movimiento extra: No se cambia el turno si es la primera vez que pasa.\n",
    "            if(acceso):    \n",
    "                if(self.movExtra):\n",
    "                    self.movement = -1\n",
    "                    self.movExtra = False\n",
    "                self.placeTile(row+self.mov1row, col, self.turnoActual)\n",
    "            return True\n",
    "        #Caso 2.3: Si es a una fila final.\n",
    "        elif(row+self.mov1row==0 or row+self.mov1row==7):\n",
    "            if(acceso):    \n",
    "                if(self.turnoActual==1):\n",
    "                    self.costeNegro+=5\n",
    "                else:\n",
    "                    self.costeRojo+=5    \n",
    "            return True\n",
    "        #Caso 2.4: Si es a una casilla cualquiera ocupada.\n",
    "        elif(self.matrix[row+self.mov1row][col]!=0 and (row+self.mov1row!=0 or row+self.mov1row!=7)):\n",
    "            newCol=self.availableCols(row+self.mov1row, col)\n",
    "            #Si no hay casillas disponibles no es un movimiento válido.\n",
    "            if(newCol==-1):\n",
    "                return False\n",
    "            if(acceso):\n",
    "                self.placeTile(row+self.mov1row, newCol, self.turnoActual)\n",
    "            return True\n",
    "        #Caso 2.5: Si es a una casilla cualquiera vacía.\n",
    "        elif(self.matrix[row+self.mov1row][col]==0):\n",
    "            if(acceso):    \n",
    "                self.placeTile(row+self.mov1row, col, self.turnoActual)\n",
    "            return True\n",
    "        return False\n",
    "    \n",
    "    # Método que devuelve el número de fichas que hay en la fila pasada por parámetro.\n",
    "    def numMovs(self, row: int) -> int:\n",
    "        contador=0\n",
    "        for j in range(0, 6):\n",
    "            if(self.matrix[row][j] != 0):\n",
    "                contador+=1\n",
    "        return contador\n",
    "    \n",
    "    # Método que devuelve la columna más cercana vacía de la fila pasada por parámetro. \n",
    "    # Si toda la fila está ocupada devuelve -1.\n",
    "    def availableCols(self, row: int, col: int) -> int:\n",
    "        freeCol=-1\n",
    "        inc=1\n",
    "        if(self.numMovs(row)==6):\n",
    "            return freeCol\n",
    "        for i in range (0,6):\n",
    "            if(self.matrix[row][i]==0):\n",
    "                return i            \n",
    "            freeCol = i\n",
    "        return freeCol\n",
    "    \n",
    "    # Método que devuelve una lista de tuplas con los movimientos disponibles.\n",
    "    def availableMovs(self, playerID: int) -> List[Tuple]:\n",
    "        available = []\n",
    "        for i in range (0,8):\n",
    "            for j in range (0,6):\n",
    "                if (self.validateMov(i, j, False)):\n",
    "                    available.append((i, j))\n",
    "        return available\n",
    "        \n",
    "    \n",
    "    # Método que se encarga de mover una ficha. Para ello, valida el movimiento, y si es válido, mueve la ficha.\n",
    "    def moverFicha(self, row:int, col: int, acceso: bool) -> bool:\n",
    "        if(self.validateMov(row, col, acceso)):\n",
    "            self.deleteTile(row, col)\n",
    "            self.gestorMov()\n",
    "            return True\n",
    "        else:\n",
    "\n",
    "            if(self.turnoActual == 1):\n",
    "                available = self.availableMovs(self.turnoActual)\n",
    "                print(\"Los movimientos disponibles son:\")\n",
    "                print(available)\n",
    "            return False\n",
    "                \n",
    "    # Método que gestiona los cambios de variables al hacer un movimiento.\n",
    "    def gestorMov(self):\n",
    "        if(self.movement==1):\n",
    "            self.movement=0\n",
    "            self.cambiarTurno()\n",
    "        else:\n",
    "            if(self.turnoActual==2):\n",
    "                self.mov1row=0-self.mov1row\n",
    "            self.movement+=1\n",
    "    \n",
    "    # Método que gestiona los cambios de turno entre los jugadores.\n",
    "    def cambiarTurno(self):\n",
    "        if(self.turnoActual==1):\n",
    "            self.numFilas1=-1\n",
    "            self.turnoActual=2\n",
    "        else:\n",
    "            self.numFilas1=1\n",
    "            self.turnoActual=1\n",
    "        self.movExtra=True\n",
    "    \n",
    "    # Método que calcula el ganador en un estado final del juego.\n",
    "    def endGame(self):\n",
    "        if (self.utility() > 0):\n",
    "            victory = 1\n",
    "        else:\n",
    "            victory = 2\n",
    "        print(\"Final del juego. El ganador es\", victory)\n",
    "    \n",
    "    # Método que comprueba si el juego ha acabado.\n",
    "    def gameOver(self) -> bool:\n",
    "        indexBlack = []\n",
    "        indexRed = []\n",
    "\n",
    "        for i in range(len(self.matrix)):\n",
    "            for j in range(len(self.matrix[0])):\n",
    "                if (self.matrix[i][j] == 1):\n",
    "                    indexBlack.append(i)\n",
    "                elif (self.matrix[i][j] == 2):\n",
    "                    indexRed.append(i)\n",
    "\n",
    "        if len(indexBlack) == 0:\n",
    "            return True \n",
    "\n",
    "        max_indice_1 = min(indexBlack)\n",
    "        max_indice_2 = max(indexRed)\n",
    "        \n",
    "        return max_indice_1 > max_indice_2\n",
    "    \n",
    "    # Método que imprime por pantalla la matriz de un estado en modo texto.\n",
    "    def toString(self):\n",
    "        for i in range (0,8):\n",
    "            print(self.matrix[i])\n",
    "        print(\"\")\n",
    "        \n",
    "    # Método que genera los estados hijos de una instancia de la clase para un jugador.    \n",
    "    def generateSuccessors(self, playerID: int) -> List['Linja']:\n",
    "        result = []\n",
    "        for row1 in range(8):\n",
    "            for col1 in range(6):\n",
    "                tablero_copia = Linja(self.matrix)  \n",
    "                if(playerID==2):\n",
    "                    tablero_copia.cambiarTurno()\n",
    "                if tablero_copia.validateMov(row1, col1, False):\n",
    "                    tablero_copia.moverFicha(row1, col1, True)\n",
    "                    for row2 in range(8):\n",
    "                        for col2 in range(6):\n",
    "                            tablero_copia_2 = copy.deepcopy(tablero_copia) \n",
    "                            if tablero_copia_2.validateMov(row2, col2, False):\n",
    "                                tablero_copia_2.moverFicha(row2, col2, True)\n",
    "                                #Límite de 6 estados hijos\n",
    "                                if(len(result)==6):\n",
    "                                    break\n",
    "                                result.append(tablero_copia_2)\n",
    "        return result\n"
   ]
  },
  {
   "cell_type": "markdown",
   "metadata": {},
   "source": [
    "## Minimax\n",
    "\n",
    "Algoritmo Minimax con poda alfa-beta que se encarga de devolver la matriz con mayor coste para un jugador, además del coste y de una variable de parada."
   ]
  },
  {
   "cell_type": "code",
   "execution_count": 2,
   "metadata": {},
   "outputs": [],
   "source": [
    "# Algoritmo Minimax con poda alfa-beta que se encarga de devolver la matriz con mayor coste para un jugador, además del coste y de una variable de parada.\n",
    "def miniMax(state:Linja, currentLevel:int, maxLevel:int, playerID:int, alpha:int, beta:int, stop:bool) -> Tuple[Linja, int, bool]:\n",
    "\n",
    "    possibleMove = True\n",
    "    \n",
    "    if(len(state.availableMovs(playerID))==0): \n",
    "        possibleMove = False\n",
    "        \n",
    "    if (possibleMove == False or currentLevel == maxLevel):\n",
    "        return (state.matrix,state.utility(),stop)  \n",
    "    \n",
    "    successorMatrices = state.generateSuccessors(playerID)\n",
    "        \n",
    "    # Si no hay sucesores se para\n",
    "    if len(successorMatrices) == 0:\n",
    "        stopDigging = True\n",
    "        return (state.matrix,state.utility(),stopDigging)\n",
    "    \n",
    "    bestMatrix = None\n",
    "    \n",
    "    if playerID == 2:                    \n",
    "        maxValue = -math.inf #alpha\n",
    "        for i in range(0, len(successorMatrices)):            \n",
    "                \n",
    "                mat = successorMatrices[i]\n",
    "                matrizS, utility, stop = miniMax(mat, currentLevel + 1, maxLevel, 1, alpha,beta,stop)\n",
    "                \n",
    "                best = utility \n",
    "            \n",
    "                if best > maxValue:\n",
    "                    maxValue = best\n",
    "                    bestMatrix = successorMatrices[i].getMatrix()\n",
    "                    \n",
    "                alpha = max(alpha, best)                \n",
    "                if best >= beta:\n",
    "                    return (matrizS,best,stop)\n",
    "                    \n",
    "    else:                           \n",
    "        minValue = math.inf #beta\n",
    "        for i in range(0, len(successorMatrices)):\n",
    "            \n",
    "                \n",
    "                mat = successorMatrices[i]\n",
    "                matrizS, utility, stop = miniMax(mat, currentLevel + 1, maxLevel, 2, alpha,beta,stop)\n",
    "            \n",
    "            \n",
    "                if utility < minValue:\n",
    "                    minValue = utility\n",
    "                    bestMatrix = successorMatrices[i].getMatrix()    \n",
    "                \n",
    "                beta = min(beta, utility)\n",
    "                if utility <= alpha:                    \n",
    "                    return (matrizS,utility,stop)\n",
    "                    \n",
    "    return (bestMatrix,utility,stop)"
   ]
  },
  {
   "cell_type": "markdown",
   "metadata": {},
   "source": [
    "\n",
    "## Poner en funcionamiento Minimax"
   ]
  },
  {
   "cell_type": "code",
   "execution_count": 3,
   "metadata": {},
   "outputs": [],
   "source": [
    "# Método que ejecuta minimax para obtener el estado siguiente determinado por minimax\n",
    "def performActionMinMax(state:Linja, player:int):\n",
    "    \n",
    "    matrizB=state.getMatrix()\n",
    "    tmpMatriz = [row[:] for row in matrizB] \n",
    "           \n",
    "    depth = 2\n",
    "    \n",
    "    matrizoptima = tmpMatriz\n",
    "    stop = False \n",
    "    currentLevel = 0    \n",
    "    itera = 0  \n",
    "        \n",
    "    while not stop and itera <= 3:          \n",
    "        tmpMatrizB = Linja(tmpMatriz)\n",
    "        \n",
    "        (matrizoptima, valoroptimo, stop) = miniMax(tmpMatrizB, currentLevel, depth, player, -math.inf, math.inf,stop);        \n",
    "        itera+=1      \n",
    "        \n",
    "        actualState = Linja(matrizoptima) \n",
    "        \n",
    "    return actualState"
   ]
  },
  {
   "cell_type": "markdown",
   "metadata": {},
   "source": [
    "## Método para jugar al juego (árbitro)\n"
   ]
  },
  {
   "cell_type": "code",
   "execution_count": 4,
   "metadata": {},
   "outputs": [
    {
     "data": {
      "application/vnd.jupyter.widget-view+json": {
       "model_id": "1f4e81d7004f4180b5c3489617085508",
       "version_major": 2,
       "version_minor": 0
      },
      "text/plain": [
       "HTML(value='<style> img.game {width: 47px !important; height: 37px !important;}</style><table><tr><td><img cla…"
      ]
     },
     "metadata": {},
     "output_type": "display_data"
    },
    {
     "name": "stdout",
     "output_type": "stream",
     "text": [
      "Escriba dos números enteros separados por coma y espacio (<fila>, <columna>): 1,1\n",
      "Error: Ingrese dos números enteros separados por coma y espacio.\n",
      "Escriba dos números enteros separados por coma y espacio (<fila>, <columna>): 2, 2\n",
      "Error: Movimiento ilegal. Inténtalo de nuevo.\n"
     ]
    },
    {
     "data": {
      "application/vnd.jupyter.widget-view+json": {
       "model_id": "2c92d37a38754dcd862c4b75b7164930",
       "version_major": 2,
       "version_minor": 0
      },
      "text/plain": [
       "HTML(value='<style> img.game {width: 47px !important; height: 37px !important;}</style><table><tr><td><img cla…"
      ]
     },
     "metadata": {},
     "output_type": "display_data"
    },
    {
     "name": "stdout",
     "output_type": "stream",
     "text": [
      "Escriba dos números enteros separados por coma y espacio (<fila>, <columna>): 1, 1\n",
      "Error: Movimiento ilegal. Inténtalo de nuevo.\n"
     ]
    },
    {
     "data": {
      "application/vnd.jupyter.widget-view+json": {
       "model_id": "711e24cb99ac453c8a96f7a31de4edfc",
       "version_major": 2,
       "version_minor": 0
      },
      "text/plain": [
       "HTML(value='<style> img.game {width: 47px !important; height: 37px !important;}</style><table><tr><td><img cla…"
      ]
     },
     "metadata": {},
     "output_type": "display_data"
    },
    {
     "name": "stdout",
     "output_type": "stream",
     "text": [
      "Escriba dos números enteros separados por coma y espacio (<fila>, <columna>): 6, 7\n",
      "Error: Los números deben estar entre 0 y 7 para la fila y entre 0 y 5 para la columna.\n",
      "Escriba dos números enteros separados por coma y espacio (<fila>, <columna>): 0, 2\n"
     ]
    },
    {
     "data": {
      "application/vnd.jupyter.widget-view+json": {
       "model_id": "17dd0716b98c488286a22be90ace2b9e",
       "version_major": 2,
       "version_minor": 0
      },
      "text/plain": [
       "HTML(value='<style> img.game {width: 47px !important; height: 37px !important;}</style><table><tr><td><img cla…"
      ]
     },
     "metadata": {},
     "output_type": "display_data"
    },
    {
     "name": "stdout",
     "output_type": "stream",
     "text": [
      "Escriba dos números enteros separados por coma y espacio (<fila>, <columna>): 1, 2\n"
     ]
    },
    {
     "data": {
      "application/vnd.jupyter.widget-view+json": {
       "model_id": "01cca592dc58473c8131a7701c3a022a",
       "version_major": 2,
       "version_minor": 0
      },
      "text/plain": [
       "HTML(value='<style> img.game {width: 47px !important; height: 37px !important;}</style><table><tr><td><img cla…"
      ]
     },
     "metadata": {},
     "output_type": "display_data"
    },
    {
     "data": {
      "application/vnd.jupyter.widget-view+json": {
       "model_id": "50673d1e7ba2455caf451577f087d9eb",
       "version_major": 2,
       "version_minor": 0
      },
      "text/plain": [
       "HTML(value='<style> img.game {width: 47px !important; height: 37px !important;}</style><table><tr><td><img cla…"
      ]
     },
     "metadata": {},
     "output_type": "display_data"
    },
    {
     "name": "stdout",
     "output_type": "stream",
     "text": [
      "Escriba dos números enteros separados por coma y espacio (<fila>, <columna>): 3, 1\n",
      "Error: Movimiento ilegal. Inténtalo de nuevo.\n"
     ]
    },
    {
     "data": {
      "application/vnd.jupyter.widget-view+json": {
       "model_id": "8a5b46a3bd0144da8c06e06db30bc09d",
       "version_major": 2,
       "version_minor": 0
      },
      "text/plain": [
       "HTML(value='<style> img.game {width: 47px !important; height: 37px !important;}</style><table><tr><td><img cla…"
      ]
     },
     "metadata": {},
     "output_type": "display_data"
    },
    {
     "name": "stdout",
     "output_type": "stream",
     "text": [
      "Escriba dos números enteros separados por coma y espacio (<fila>, <columna>): 0, 4\n"
     ]
    },
    {
     "data": {
      "application/vnd.jupyter.widget-view+json": {
       "model_id": "05fccffc4d394ec5b02673f3a908ba02",
       "version_major": 2,
       "version_minor": 0
      },
      "text/plain": [
       "HTML(value='<style> img.game {width: 47px !important; height: 37px !important;}</style><table><tr><td><img cla…"
      ]
     },
     "metadata": {},
     "output_type": "display_data"
    },
    {
     "name": "stdout",
     "output_type": "stream",
     "text": [
      "Escriba dos números enteros separados por coma y espacio (<fila>, <columna>): 0, 3\n"
     ]
    },
    {
     "data": {
      "application/vnd.jupyter.widget-view+json": {
       "model_id": "5103a0e206e84566b26907b4ee5de2dd",
       "version_major": 2,
       "version_minor": 0
      },
      "text/plain": [
       "HTML(value='<style> img.game {width: 47px !important; height: 37px !important;}</style><table><tr><td><img cla…"
      ]
     },
     "metadata": {},
     "output_type": "display_data"
    },
    {
     "data": {
      "application/vnd.jupyter.widget-view+json": {
       "model_id": "b47ce126d2f44d248ab454a1314d7280",
       "version_major": 2,
       "version_minor": 0
      },
      "text/plain": [
       "HTML(value='<style> img.game {width: 47px !important; height: 37px !important;}</style><table><tr><td><img cla…"
      ]
     },
     "metadata": {},
     "output_type": "display_data"
    },
    {
     "name": "stdout",
     "output_type": "stream",
     "text": [
      "Escriba dos números enteros separados por coma y espacio (<fila>, <columna>): 0, 1\n"
     ]
    },
    {
     "data": {
      "application/vnd.jupyter.widget-view+json": {
       "model_id": "42854b275a844bb9a2911690c13127f1",
       "version_major": 2,
       "version_minor": 0
      },
      "text/plain": [
       "HTML(value='<style> img.game {width: 47px !important; height: 37px !important;}</style><table><tr><td><img cla…"
      ]
     },
     "metadata": {},
     "output_type": "display_data"
    },
    {
     "ename": "KeyboardInterrupt",
     "evalue": "Interrupted by user",
     "output_type": "error",
     "traceback": [
      "\u001b[1;31m---------------------------------------------------------------------------\u001b[0m",
      "\u001b[1;31mKeyboardInterrupt\u001b[0m                         Traceback (most recent call last)",
      "Cell \u001b[1;32mIn[4], line 62\u001b[0m\n\u001b[0;32m     52\u001b[0m matrix \u001b[38;5;241m=\u001b[39m [[\u001b[38;5;241m1\u001b[39m, \u001b[38;5;241m1\u001b[39m, \u001b[38;5;241m1\u001b[39m, \u001b[38;5;241m1\u001b[39m, \u001b[38;5;241m1\u001b[39m, \u001b[38;5;241m1\u001b[39m],\n\u001b[0;32m     53\u001b[0m          [\u001b[38;5;241m1\u001b[39m, \u001b[38;5;241m0\u001b[39m, \u001b[38;5;241m0\u001b[39m, \u001b[38;5;241m0\u001b[39m, \u001b[38;5;241m0\u001b[39m, \u001b[38;5;241m2\u001b[39m],\n\u001b[0;32m     54\u001b[0m          [\u001b[38;5;241m1\u001b[39m, \u001b[38;5;241m0\u001b[39m, \u001b[38;5;241m0\u001b[39m, \u001b[38;5;241m0\u001b[39m, \u001b[38;5;241m0\u001b[39m, \u001b[38;5;241m2\u001b[39m],\n\u001b[1;32m   (...)\u001b[0m\n\u001b[0;32m     58\u001b[0m          [\u001b[38;5;241m1\u001b[39m, \u001b[38;5;241m0\u001b[39m, \u001b[38;5;241m0\u001b[39m, \u001b[38;5;241m0\u001b[39m, \u001b[38;5;241m0\u001b[39m, \u001b[38;5;241m2\u001b[39m],\n\u001b[0;32m     59\u001b[0m          [\u001b[38;5;241m2\u001b[39m, \u001b[38;5;241m2\u001b[39m, \u001b[38;5;241m2\u001b[39m, \u001b[38;5;241m2\u001b[39m, \u001b[38;5;241m2\u001b[39m, \u001b[38;5;241m2\u001b[39m]]\n\u001b[0;32m     61\u001b[0m tablero1 \u001b[38;5;241m=\u001b[39m Linja(matrix)\n\u001b[1;32m---> 62\u001b[0m play(tablero1)\n",
      "Cell \u001b[1;32mIn[4], line 8\u001b[0m, in \u001b[0;36mplay\u001b[1;34m(state)\u001b[0m\n\u001b[0;32m      6\u001b[0m \u001b[38;5;28;01mwhile\u001b[39;00m \u001b[38;5;129;01mnot\u001b[39;00m state\u001b[38;5;241m.\u001b[39mgameOver():\n\u001b[0;32m      7\u001b[0m     \u001b[38;5;28;01mif\u001b[39;00m state\u001b[38;5;241m.\u001b[39mturnoActual \u001b[38;5;241m==\u001b[39m \u001b[38;5;241m1\u001b[39m \u001b[38;5;129;01mand\u001b[39;00m \u001b[38;5;129;01mnot\u001b[39;00m gameOver:\n\u001b[1;32m----> 8\u001b[0m         entrada \u001b[38;5;241m=\u001b[39m \u001b[38;5;28minput\u001b[39m(\u001b[38;5;124m\"\u001b[39m\u001b[38;5;124mEscriba dos números enteros separados por coma y espacio (<fila>, <columna>): \u001b[39m\u001b[38;5;124m\"\u001b[39m)\n\u001b[0;32m     10\u001b[0m         \u001b[38;5;66;03m# Dividir la entrada en dos números separados\u001b[39;00m\n\u001b[0;32m     11\u001b[0m         numeros \u001b[38;5;241m=\u001b[39m entrada\u001b[38;5;241m.\u001b[39msplit(\u001b[38;5;124m'\u001b[39m\u001b[38;5;124m, \u001b[39m\u001b[38;5;124m'\u001b[39m)\n",
      "File \u001b[1;32m~\\anaconda3\\Lib\\site-packages\\ipykernel\\kernelbase.py:1202\u001b[0m, in \u001b[0;36mKernel.raw_input\u001b[1;34m(self, prompt)\u001b[0m\n\u001b[0;32m   1200\u001b[0m     msg \u001b[38;5;241m=\u001b[39m \u001b[38;5;124m\"\u001b[39m\u001b[38;5;124mraw_input was called, but this frontend does not support input requests.\u001b[39m\u001b[38;5;124m\"\u001b[39m\n\u001b[0;32m   1201\u001b[0m     \u001b[38;5;28;01mraise\u001b[39;00m StdinNotImplementedError(msg)\n\u001b[1;32m-> 1202\u001b[0m \u001b[38;5;28;01mreturn\u001b[39;00m \u001b[38;5;28mself\u001b[39m\u001b[38;5;241m.\u001b[39m_input_request(\n\u001b[0;32m   1203\u001b[0m     \u001b[38;5;28mstr\u001b[39m(prompt),\n\u001b[0;32m   1204\u001b[0m     \u001b[38;5;28mself\u001b[39m\u001b[38;5;241m.\u001b[39m_parent_ident[\u001b[38;5;124m\"\u001b[39m\u001b[38;5;124mshell\u001b[39m\u001b[38;5;124m\"\u001b[39m],\n\u001b[0;32m   1205\u001b[0m     \u001b[38;5;28mself\u001b[39m\u001b[38;5;241m.\u001b[39mget_parent(\u001b[38;5;124m\"\u001b[39m\u001b[38;5;124mshell\u001b[39m\u001b[38;5;124m\"\u001b[39m),\n\u001b[0;32m   1206\u001b[0m     password\u001b[38;5;241m=\u001b[39m\u001b[38;5;28;01mFalse\u001b[39;00m,\n\u001b[0;32m   1207\u001b[0m )\n",
      "File \u001b[1;32m~\\anaconda3\\Lib\\site-packages\\ipykernel\\kernelbase.py:1245\u001b[0m, in \u001b[0;36mKernel._input_request\u001b[1;34m(self, prompt, ident, parent, password)\u001b[0m\n\u001b[0;32m   1242\u001b[0m \u001b[38;5;28;01mexcept\u001b[39;00m \u001b[38;5;167;01mKeyboardInterrupt\u001b[39;00m:\n\u001b[0;32m   1243\u001b[0m     \u001b[38;5;66;03m# re-raise KeyboardInterrupt, to truncate traceback\u001b[39;00m\n\u001b[0;32m   1244\u001b[0m     msg \u001b[38;5;241m=\u001b[39m \u001b[38;5;124m\"\u001b[39m\u001b[38;5;124mInterrupted by user\u001b[39m\u001b[38;5;124m\"\u001b[39m\n\u001b[1;32m-> 1245\u001b[0m     \u001b[38;5;28;01mraise\u001b[39;00m \u001b[38;5;167;01mKeyboardInterrupt\u001b[39;00m(msg) \u001b[38;5;28;01mfrom\u001b[39;00m \u001b[38;5;28;01mNone\u001b[39;00m\n\u001b[0;32m   1246\u001b[0m \u001b[38;5;28;01mexcept\u001b[39;00m \u001b[38;5;167;01mException\u001b[39;00m:\n\u001b[0;32m   1247\u001b[0m     \u001b[38;5;28mself\u001b[39m\u001b[38;5;241m.\u001b[39mlog\u001b[38;5;241m.\u001b[39mwarning(\u001b[38;5;124m\"\u001b[39m\u001b[38;5;124mInvalid Message:\u001b[39m\u001b[38;5;124m\"\u001b[39m, exc_info\u001b[38;5;241m=\u001b[39m\u001b[38;5;28;01mTrue\u001b[39;00m)\n",
      "\u001b[1;31mKeyboardInterrupt\u001b[0m: Interrupted by user"
     ]
    }
   ],
   "source": [
    "# Método que se encarga de gestionar los turnos y el correcto transcurso de la partida.\n",
    "def play(state:Linja):\n",
    "    gameOver = False\n",
    "    html = state.get_html(False)\n",
    "    display(HTML(html))\n",
    "    while not state.gameOver():\n",
    "        if state.turnoActual == 1 and not gameOver:\n",
    "            entrada = input(\"Escriba dos números enteros separados por coma y espacio (<fila>, <columna>): \")\n",
    "\n",
    "            # Dividir la entrada en dos números separados\n",
    "            numeros = entrada.split(', ')\n",
    "\n",
    "            # Verificar si se ingresaron exactamente dos números\n",
    "            if len(numeros) == 2:\n",
    "                try:\n",
    "                    row = int(numeros[0])\n",
    "                    col = int(numeros[1])\n",
    "\n",
    "                    # Verificar si los números están dentro del rango especificado\n",
    "                    if 0 <= row <= 7 and 0 <= col <= 5:\n",
    "                        # Verificar si el movimiento es legal utilizando state.validateMov(row, col, False)\n",
    "                        if state.validateMov(row, col, False):\n",
    "                            if state.moverFicha(row, col, True):\n",
    "                                html = state.get_html(False)\n",
    "                                display(HTML(html))\n",
    "                                if state.gameOver():\n",
    "                                    state.endGame()\n",
    "                                    gameOver = True\n",
    "                            else:\n",
    "                                html = state.get_html(True)\n",
    "                                display(HTML(html))\n",
    "                        else:\n",
    "                            print(\"Error: Movimiento ilegal. Inténtalo de nuevo.\")\n",
    "                            html = state.get_html(False)\n",
    "                            display(HTML(html))\n",
    "                    else:\n",
    "                        print(\"Error: Los números deben estar entre 0 y 7 para la fila y entre 0 y 5 para la columna.\")\n",
    "                except ValueError:\n",
    "                    print(\"Error: Ingrese números enteros válidos.\")\n",
    "            else:\n",
    "                print(\"Error: Ingrese dos números enteros separados por coma y espacio.\")\n",
    "        else:\n",
    "            if not gameOver:\n",
    "                state = performActionMinMax(state, 2)\n",
    "                html = state.get_html(False)\n",
    "                display(HTML(html))\n",
    "            else:\n",
    "                state.endGame()\n",
    "                break\n",
    "\n",
    "\n",
    "matrix = [[1, 1, 1, 1, 1, 1],\n",
    "         [1, 0, 0, 0, 0, 2],\n",
    "         [1, 0, 0, 0, 0, 2],\n",
    "         [1, 0, 0, 0, 0, 2],\n",
    "         [1, 0, 0, 0, 0, 2],\n",
    "         [1, 0, 0, 0, 0, 2],\n",
    "         [1, 0, 0, 0, 0, 2],\n",
    "         [2, 2, 2, 2, 2, 2]]\n",
    "\n",
    "tablero1 = Linja(matrix)\n",
    "play(tablero1)\n"
   ]
  }
 ],
 "metadata": {
  "kernelspec": {
   "display_name": "Python 3 (ipykernel)",
   "language": "python",
   "name": "python3"
  },
  "language_info": {
   "codemirror_mode": {
    "name": "ipython",
    "version": 3
   },
   "file_extension": ".py",
   "mimetype": "text/x-python",
   "name": "python",
   "nbconvert_exporter": "python",
   "pygments_lexer": "ipython3",
   "version": "3.11.5"
  }
 },
 "nbformat": 4,
 "nbformat_minor": 2
}
